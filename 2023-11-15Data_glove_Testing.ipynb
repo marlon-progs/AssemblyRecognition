{
 "cells": [
  {
   "cell_type": "code",
   "execution_count": null,
   "id": "98f9b75e-9325-49f4-b6fe-cf7db59225ac",
   "metadata": {},
   "outputs": [],
   "source": [
    "#DataGlove testing"
   ]
  },
  {
   "cell_type": "code",
   "execution_count": 1,
   "id": "80bcfe9d-1b1d-4c36-b18d-a955cd2ff109",
   "metadata": {
    "tags": []
   },
   "outputs": [],
   "source": [
    "import os"
   ]
  },
  {
   "cell_type": "code",
   "execution_count": null,
   "id": "137fbd91-b280-4172-aff7-ae2dd3d30c9b",
   "metadata": {},
   "outputs": [],
   "source": []
  }
 ],
 "metadata": {
  "kernelspec": {
   "display_name": "Python 3 (ipykernel)",
   "language": "python",
   "name": "python3"
  },
  "language_info": {
   "codemirror_mode": {
    "name": "ipython",
    "version": 3
   },
   "file_extension": ".py",
   "mimetype": "text/x-python",
   "name": "python",
   "nbconvert_exporter": "python",
   "pygments_lexer": "ipython3",
   "version": "3.9.18"
  }
 },
 "nbformat": 4,
 "nbformat_minor": 5
}
